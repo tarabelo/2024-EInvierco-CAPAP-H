{
  "cells": [
    {
      "cell_type": "markdown",
      "metadata": {
        "id": "view-in-github",
        "colab_type": "text"
      },
      "source": [
        "<a href=\"https://colab.research.google.com/github/tarabelo/2024-EInvierno-CAPAP-H/blob/main/Puertas%20cu%C3%A1nticas.ipynb\" target=\"_parent\"><img src=\"https://colab.research.google.com/assets/colab-badge.svg\" alt=\"Open In Colab\"/></a>"
      ]
    },
    {
      "cell_type": "code",
      "source": [
        "# Instalamos qiskit en el notebook\n",
        "!pip install qiskit[visualization] qiskit-aer\n",
        "\n",
        "import warnings\n",
        "warnings.filterwarnings(\"ignore\", category=UserWarning)"
      ],
      "metadata": {
        "id": "NisH3zeBKoVe"
      },
      "id": "NisH3zeBKoVe",
      "execution_count": null,
      "outputs": []
    },
    {
      "cell_type": "code",
      "execution_count": null,
      "id": "interior-liver",
      "metadata": {
        "id": "interior-liver"
      },
      "outputs": [],
      "source": [
        "# importing Qiskit\n",
        "from qiskit import QuantumCircuit, transpile, execute\n",
        "from qiskit.providers.aer import AerSimulator\n",
        "\n",
        "# import basic plot tools\n",
        "from qiskit.visualization import plot_histogram\n",
        "\n",
        "# Define el simulador básico\n",
        "sim = AerSimulator()\n",
        "\n",
        "# Funciones auxiliares\n",
        "# Función para simular y mostrar el vector de estado\n",
        "def obten_estado(qcirc, etiqueta):\n",
        "    # Salvamos el vector de estado final del circuito\n",
        "    qcirc.save_statevector()\n",
        "\n",
        "    # Hacemos una simulación y obtenemos los resultados\n",
        "    qobj = transpile(qcirc, sim)\n",
        "    result = execute(qobj, sim).result()\n",
        "    estado = result.get_statevector()\n",
        "    display(estado.draw('latex', prefix=etiqueta))\n",
        "    display(estado.draw('bloch'))\n",
        "\n",
        "# Funcion para obtener y mostrar la matriz unitaria\n",
        "def obten_unitaria(qcirc, etiqueta):\n",
        "    sim_u = AerSimulator(method='unitary')\n",
        "    #Necesito indicar que se salve la matriz unitaria\n",
        "    qcirc.save_unitary()\n",
        "\n",
        "    result = execute(transpile(qcirc, sim_u), sim_u).result()\n",
        "    unitary = result.get_unitary(qcirc)\n",
        "    display(unitary.draw('latex', prefix=etiqueta))"
      ]
    },
    {
      "cell_type": "markdown",
      "id": "closed-skill",
      "metadata": {
        "id": "closed-skill"
      },
      "source": [
        "#**Puertas cuánticas**\n",
        "\n",
        "Contenidos\n",
        "\n",
        "1. [Puertas clásicas vs cuánticas](#clasicascuanticas)\n",
        "  - [Puertas clásicas como matrices](#clasicas)\n",
        "  - [Computación reversible](#reversible)\n",
        "  - [Puertas cuánticas](#cuanticas)\n",
        " <p></p>\n",
        "1. [Puertas cuánticas de 1 cúbit](#1cubit)\n",
        "    + [Puertas notables](#notables)\n",
        "    - [Puertas como rotaciones en la esfera de Bloch](#bloch)\n",
        "    - [Puertas de 1 cúbit en un sistema multicúbit](#puertas1c)\n",
        " <p></p>\n",
        "1.  [Puertas controladas: CNOT](#cnot)\n",
        "    + [Creación de estados entrelazados](#bell)\n",
        "    + [Otras puertas controladas](#otrasp)\n",
        "    + [Phase-kickback](#kick)   \n",
        "<p></p>\n",
        "1. [Otras puertas](#otras)\n",
        "    + [Puerta swap](#swap)\n",
        "    + [Puertas para múltiples cúbits](#multiples)"
      ]
    },
    {
      "cell_type": "markdown",
      "id": "logical-mason",
      "metadata": {
        "id": "logical-mason"
      },
      "source": [
        "<a name=\"clasicascuanticas\"></a>\n",
        "# Puertas clásicas vs cuánticas\n",
        "\n",
        "Las puertas clásicas (NOT, AND, OR, NAN, EXOR) actúan sobre 1 (NOT) o 2 bits.\n",
        "\n",
        "Las principales puertas cuánticas también operan sobre 1 o 2 cúbits, manteniendo las restricciones impuestas por la física (reversibilidad)."
      ]
    },
    {
      "cell_type": "markdown",
      "id": "criminal-worship",
      "metadata": {
        "id": "criminal-worship"
      },
      "source": [
        "<a name=\"clasicas\"></a>\n",
        "## Puertas clásicas como matrices\n",
        "\n",
        "Podemos representar las puertas lógicas clásicas como matrices u operadores, tales que aplicados a un número binario obtienen un número binario.\n",
        "\n",
        "Por ejemplo:\n",
        "\n",
        "$$\n",
        "\\begin{aligned}\n",
        "\\text{NOT} &= \\begin{bmatrix}0 & 1\\\\ 1 & 0\\end{bmatrix}\\\\[10pt]\n",
        "\\text{AND} &= \\begin{bmatrix}1 & 1 & 1 & 0\\\\ 0 & 0 & 0 & 1\\end{bmatrix}\\\\[10pt]\n",
        "\\text{OR} &= \\begin{bmatrix}1 & 0 & 0 & 0\\\\ 0 & 1 & 1 & 1\\end{bmatrix}\\\\[10pt]\n",
        "\\end{aligned}\n",
        "$$\n",
        "\n",
        "Ejemplos:\n",
        "\n",
        "$$\n",
        "\\begin{aligned}\n",
        "\\text{NOT}|0\\rangle &= \\begin{bmatrix}0 & 1\\\\ 1 & 0\\end{bmatrix}\n",
        "\\begin{bmatrix} 1\\\\ 0\\end{bmatrix} = \\begin{bmatrix} 0\\\\ 1\\end{bmatrix} = |1\\rangle\n",
        "\\\\[10pt]\n",
        "\\text{AND}|11\\rangle &= \\begin{bmatrix}1 & 1 & 1 & 0\\\\ 0 & 0 & 0 & 1\\end{bmatrix}\n",
        "\\begin{bmatrix} 0\\\\ 0\\\\0\\\\1\\end{bmatrix} = \\begin{bmatrix}0\\\\1\\end{bmatrix} = |1\\rangle \\\\[10pt]\n",
        "\\text{AND}|01\\rangle &= \\begin{bmatrix}1 & 1 & 1 & 0\\\\ 1 & 0 & 0 & 1\\end{bmatrix}\n",
        "\\begin{bmatrix} 0\\\\ 1\\\\0\\\\0\\end{bmatrix} = \\begin{bmatrix} 1\\\\ 0\\end{bmatrix} = |0\\rangle \\\\[10pt]\n",
        "\\text{OR}|10\\rangle &= \\begin{bmatrix}1 & 0 & 0 & 0\\\\ 0 & 1 & 1 & 1\\end{bmatrix}\n",
        "\\begin{bmatrix} 0\\\\ 0\\\\1\\\\0\\end{bmatrix} = \\begin{bmatrix} 0\\\\1\\end{bmatrix} = |1\\rangle \\\\[10pt]\n",
        "\\text{OR}|11\\rangle &= \\begin{bmatrix}1 & 0 & 0 & 0\\\\ 0 & 1 & 1 & 1\\end{bmatrix}\n",
        "\\begin{bmatrix} 0\\\\ 0\\\\0\\\\1\\end{bmatrix} = \\begin{bmatrix} 0\\\\1\\end{bmatrix} = |1\\rangle\\\\[10pt]\n",
        "\\end{aligned}\n",
        "$$\n",
        "\n",
        "Podemos obtener la representación de un conjunto de puertas mediante operaciones de matrices. Por ejemplo:\n",
        "\n",
        "<center><img src=\"https://drive.google.com/uc?export=view&id=1ZwHOf-211JlZGff4w8GhFTatdJBtYrUC\" alt=\"Circuito con puertas clasicas\" width=\"300\"  /></center>\n",
        "\n",
        "La matriz equivalente a este circuito es:\n",
        "\n",
        "$$\n",
        "\\text{OR}\\cdot (\\text{NOT}\\otimes \\text{AND}) =\n",
        "\\begin{bmatrix}1 & 0 & 0 & 0\\\\ 0 & 1 & 1 & 1\\end{bmatrix}\n",
        "\\left(\n",
        "\\begin{bmatrix}0 & 1\\\\ 1 & 0\\end{bmatrix}\\otimes\n",
        "\\begin{bmatrix}1 & 1 & 1 & 0\\\\ 0 & 0 & 0 & 1\\end{bmatrix}\n",
        "\\right) = \\\\[10pt]\n",
        "\\begin{bmatrix}1 & 0 & 0 & 0\\\\ 0 & 1 & 1 & 1\\end{bmatrix}\n",
        "\\begin{bmatrix}\n",
        "0 & 0 & 0 & 0 & 1 & 1 & 1 & 0\\\\\n",
        "0 & 0 & 0 & 0 & 0 & 0 & 0 & 1\\\\\n",
        "1 & 1 & 1 & 0 & 0 & 0 & 0 & 0\\\\\n",
        "0 & 0 & 0 & 1 & 0 & 0 & 0 & 0\n",
        "\\end{bmatrix} =\n",
        "\\begin{bmatrix}\n",
        "0 & 0 & 0 & 0 & 1 & 1 & 1 & 0\\\\\n",
        "1 & 1 & 1 & 1 & 0 & 0 & 0 & 1\n",
        "\\end{bmatrix}\n",
        "$$\n",
        "\n",
        "Es decir, las puertas en paralelo se combinan usando el producto tensor y en serie el producto matricial."
      ]
    },
    {
      "cell_type": "markdown",
      "id": "local-trick",
      "metadata": {
        "id": "local-trick"
      },
      "source": [
        "<a name=\"reversible\"></a>\n",
        "## Computación reversible\n",
        "\n",
        "Las puertas clásicas, exceptuando la puerta NOT, son no-reversibles: no es posible obtener la entrada a partir de los valores de salida.\n",
        "\n",
        "También puede verse en que las matrices, excepto la NOT, no son invertibles.\n",
        "\n",
        "El modelo de [computación reversible](https://en.wikipedia.org/wiki/Reversible_computing) substituye las puertas clásicas por sus equivalentes reversibles:\n",
        "\n",
        "<center><img src=\"https://drive.google.com/uc?export=view&id=1kZGt2hLqpdlg6YTOfy9xOTWb3y9UX_FV\" alt=\"Puertas reversibles\" width=\"500\"  /></center>\n",
        "\n",
        "Al bit auxiliar en la AND y NAND se le llama *bit ancilla*.\n",
        "\n",
        "La [puerta Toffoli](https://en.wikipedia.org/wiki/Toffoli_gate) es universal: cualquier circuito booleano se puede expresar usando solo puertas Toffoli.\n",
        "\n",
        "Otra puerta universal reversible es la [puerta Fredkin](https://en.wikipedia.org/wiki/Fredkin_gate) o Controlled-SWAP:\n",
        "\n",
        "<center><img src=\"https://drive.google.com/uc?export=view&id=1ySJHdoVX3aTAc7DPSu9WsNRY8ehay0Wv\" alt=\"Puerta Fredkin\" width=\"100\"  /></center>\n",
        "\n",
        "La matriz de una puerta CNOT es:\n",
        "\n",
        "$$ CNOT =\n",
        "\\begin{bmatrix}\n",
        "1 & 0 & 0 & 0 \\\\\n",
        "0 & 0 & 0 & 1 \\\\\n",
        "0 & 0 & 1 & 0 \\\\\n",
        "0 & 1 & 0 & 0\n",
        "\\end{bmatrix}\n",
        "$$\n",
        "\n",
        "Así, si $|BA\\rangle = |01\\rangle$:\n",
        "\n",
        "$$ CNOT|BA\\rangle = CNOT|01\\rangle =\n",
        "\\begin{bmatrix}\n",
        "1 & 0 & 0 & 0 \\\\\n",
        "0 & 0 & 0 & 1 \\\\\n",
        "0 & 0 & 1 & 0 \\\\\n",
        "0 & 1 & 0 & 0\n",
        "\\end{bmatrix}\n",
        "\\begin{bmatrix}0 \\\\1\\\\0\\\\0 \\end{bmatrix} = \\begin{bmatrix}0 \\\\ 0 \\\\ 0 \\\\ 1 \\end{bmatrix} = |11\\rangle\n",
        "$$\n",
        "\n",
        "Se puede comprobar que $CNOT = CNOT^{-1}$\n",
        "\n",
        "### Convertir puertas irreversibles en reversibles\n",
        "\n",
        "Cualquier puerta que implemente una funcón $f(x)$, con $x\\in \\{0,1\\}^n$ puede convertirse en reversible usando bits ancilla:\n",
        "\n",
        "<center><img src=\"https://drive.google.com/uc?export=view&id=1ckdPqv6_TpfSsTsqwCdAb7bPLpg0E7RA\" alt=\"Puertas reversible\" width=\"300\"  /></center>\n",
        "\n"
      ]
    },
    {
      "cell_type": "markdown",
      "id": "hawaiian-blond",
      "metadata": {
        "id": "hawaiian-blond"
      },
      "source": [
        "<a name=\"cuanticas\"></a>\n",
        "## Puertas cuánticas\n",
        "\n",
        "Debido al requisito de reversibilidad de las operaciones con cúbits, no es posible usar las puertas clásicas, exceptuando la NOT, pero sí es posible usar sus versiones reversibles.\n",
        "\n",
        "Las puertas que actúan sobre cúbits tienen, además, que conservar la norma del vector. Puertas que cumplan ambas condiciones se pueden representar mediante matrices unitarias.\n",
        "\n",
        "Una matriz unitaria $U$ que actúa sobre un estado cuántico de $n$ cúbits es una matriz $2^n\\times 2^n$ que verifica  $U^\\dagger U = UU^\\dagger = I$, siendo $U^\\dagger$ la conjugada transpuesta de $U$.\n",
        "\n",
        "La inversa de $U$ por lo tanto es $U^{-1} = U^\\dagger$\n",
        "\n",
        "La puerta se aplica al estado mediante un producto matriz-vector:\n",
        "$$\n",
        "|\\Phi\\rangle = U|\\psi\\rangle = \\begin{bmatrix}u_{00} & u_{01} \\\\ u_{10} & u_{11} \\end{bmatrix}\\begin{bmatrix}a_{0} \\\\ a_{1}\\end{bmatrix}\n",
        "$$"
      ]
    },
    {
      "cell_type": "markdown",
      "source": [
        "\n",
        "\n",
        "---\n",
        "\n",
        "\n",
        "\n",
        "---\n",
        "\n",
        "\n",
        "\n",
        "---\n",
        "\n"
      ],
      "metadata": {
        "id": "FHtc5E1C5mi0"
      },
      "id": "FHtc5E1C5mi0"
    },
    {
      "cell_type": "markdown",
      "id": "rocky-dominant",
      "metadata": {
        "id": "rocky-dominant"
      },
      "source": [
        "<a name=\"1cubit\"></a>\n",
        "# Puertas cuánticas de 1 cúbit  \n",
        "\n",
        "Para bits, la única puerta de 1 bit es la NOT.\n",
        "\n",
        "Para cúbits existen, en principio, infinitas puertas que modifican el estado del mismo (todas las matrices unitarias 2x2)."
      ]
    },
    {
      "cell_type": "markdown",
      "id": "hidden-holly",
      "metadata": {
        "id": "hidden-holly"
      },
      "source": [
        "<a name=\"notables\"></a>\n",
        "## Puertas notables\n",
        "\n",
        "### Puertas (o matrices) de Pauli\n",
        "\n",
        "$$\n",
        "\\sigma_0\\equiv I = \\begin{bmatrix}1 & 0\\\\0 & 1\\end{bmatrix}\n",
        "$$\n",
        "\n",
        "$$\n",
        "\\sigma_1\\equiv\\sigma_x\\equiv X \\equiv NOT = \\begin{bmatrix}0 & 1\\\\1 & 0\\end{bmatrix}\n",
        "$$\n",
        "\n",
        "$$\n",
        "\\sigma_2\\equiv \\sigma_y \\equiv Y = \\begin{bmatrix}0 & -i\\\\i & 0\\end{bmatrix}\n",
        "$$\n",
        "\n",
        "$$\n",
        "\\sigma_3\\equiv\\sigma_z\\equiv Z = \\begin{bmatrix}1 & 0\\\\0 & -1\\end{bmatrix}\n",
        "$$\n",
        "\n",
        "Estas matrices son involutivas: $X^2=Y^2=Z^2=-iXYZ=I$\n",
        "\n",
        "----------------------------------------------------------\n",
        "\n",
        "**Ejemplos**\n",
        "\n",
        "Puerta X (NOT en base $\\{|0\\rangle,|1\\rangle\\}$)\n",
        "\n",
        "$$\n",
        "\\begin{aligned}\n",
        "X|0\\rangle = \\begin{bmatrix}0 & 1\\\\1 & 0\\end{bmatrix}\\begin{bmatrix}1 \\\\ 0\\end{bmatrix} = \\begin{bmatrix}0 \\\\ 1\\end{bmatrix} = |1\\rangle \\\\[10pt]\n",
        "X|1\\rangle = \\begin{bmatrix}0 & 1\\\\1 & 0\\end{bmatrix}\\begin{bmatrix}0 \\\\ 1\\end{bmatrix} = \\begin{bmatrix}1 \\\\ 0\\end{bmatrix} = |0\\rangle\n",
        "\\end{aligned}\n",
        "$$\n",
        "\n",
        "Puerta Z (_phase shift_ de $\\pi$ radianes o NOT en base $\\{|+\\rangle,|-\\rangle\\}$)\n",
        "\n",
        "$$\n",
        "\\begin{aligned}\n",
        "Z|+\\rangle = \\tfrac{1}{\\sqrt{2}}\\begin{bmatrix}1 & 0\\\\0 & -1\\end{bmatrix}\\begin{bmatrix}1 \\\\ 1\\end{bmatrix} = \\tfrac{1}{\\sqrt{2}}\\begin{bmatrix}1 \\\\ -1\\end{bmatrix} = |-\\rangle \\\\[10pt]\n",
        "Z|-\\rangle = \\tfrac{1}{\\sqrt{2}}\\begin{bmatrix}1 & 0\\\\0 & -1\\end{bmatrix}\\begin{bmatrix}1 \\\\ -1\\end{bmatrix} = \\tfrac{1}{\\sqrt{2}}\\begin{bmatrix}1 \\\\ 1\\end{bmatrix} = |+\\rangle\n",
        "\\end{aligned}\n",
        "$$\n",
        "\n",
        "----------------------------------------------------------"
      ]
    },
    {
      "cell_type": "markdown",
      "id": "continuous-accused",
      "metadata": {
        "id": "continuous-accused"
      },
      "source": [
        "### Puertas cuánticas en Qiskit\n",
        "\n",
        "En Qiskit, los cúbits se inicializan a $|0\\rangle$ por defecto y se aplican puertas para obtener el estado deseado."
      ]
    },
    {
      "cell_type": "code",
      "execution_count": null,
      "id": "duplicate-account",
      "metadata": {
        "id": "duplicate-account"
      },
      "outputs": [],
      "source": [
        "# Circuito de 1 cúbit en el estado |0> con una puerta X\n",
        "qc = QuantumCircuit(1)\n",
        "\n",
        "# Aplicamos la puerta X al cúbit\n",
        "qc.x(0)\n",
        "\n",
        "qc.draw('mpl',style=\"iqp\")"
      ]
    },
    {
      "cell_type": "code",
      "execution_count": null,
      "id": "northern-fantasy",
      "metadata": {
        "id": "northern-fantasy"
      },
      "outputs": [],
      "source": [
        "# La funcion obten estado muestra el estado y la esfera de Bloch\n",
        "obten_estado(qc, \"X|0\\\\rangle = \")"
      ]
    },
    {
      "cell_type": "markdown",
      "id": "sought-member",
      "metadata": {
        "id": "sought-member"
      },
      "source": [
        "### Ejercicio: Puerta Z\n",
        "Crea un circuito de 1 cúbit en estado $|+\\rangle$, aplícale una puerta $Z$ y obtén el vector de estado de salida."
      ]
    },
    {
      "cell_type": "code",
      "execution_count": null,
      "id": "sharp-inspector",
      "metadata": {
        "id": "sharp-inspector"
      },
      "outputs": [],
      "source": [
        "# Circuito de 1 cúbit en el estado |+> con una puerta Z\n",
        "from math import sqrt\n",
        "qc = QuantumCircuit(1)\n",
        "# Inicializa el circuito al estado |+>\n",
        "qc.initialize(....)\n",
        "\n",
        "# Aplicamos la puerta Z al cúbit\n",
        "qc....\n",
        "\n",
        "# Muestra el circuito y el estado\n",
        "display(qc.draw('mpl',style=\"iqp\"))\n",
        "obten_estado(qc, \"Z|+\\\\rangle = \")"
      ]
    },
    {
      "cell_type": "markdown",
      "id": "roman-judges",
      "metadata": {
        "id": "roman-judges"
      },
      "source": [
        "### Aplicación de varias puertas\n",
        "\n",
        "Al igual que en el caso clásico, si aplicamos varias puertas sobre un mismo cúbit la matriz equivalente será el producto de las matrices de cada puerta.\n",
        "\n",
        "Qiskit proporciona un `simulador unitario`que obtiene esa matriz por nosotros:"
      ]
    },
    {
      "cell_type": "code",
      "execution_count": null,
      "id": "uniform-conversion",
      "metadata": {
        "id": "uniform-conversion"
      },
      "outputs": [],
      "source": [
        "# Circuito con varias puertas simples y obtenemos la matriz unitaria equivalente\n",
        "qc = QuantumCircuit(1)\n",
        "qc.y(0)\n",
        "qc.z(0)\n",
        "#Necesito indicar que se salve la matriz unitaria\n",
        "qc.save_unitary()\n",
        "\n",
        "qc.draw('mpl', style=\"iqp\")"
      ]
    },
    {
      "cell_type": "code",
      "execution_count": null,
      "id": "original-transport",
      "metadata": {
        "id": "original-transport"
      },
      "outputs": [],
      "source": [
        "# Simula y obtén la matriz unitaria equivalente\n",
        "# Usamos Aer con el modo Unitary\n",
        "sim_u = AerSimulator(method='unitary')\n",
        "\n",
        "result = execute(transpile(qc, sim_u), sim_u).result()\n",
        "unitary = result.get_unitary(qc)\n",
        "unitary.draw('latex', prefix=\"ZY = \")"
      ]
    },
    {
      "cell_type": "markdown",
      "id": "innovative-threat",
      "metadata": {
        "id": "innovative-threat"
      },
      "source": [
        "Debido a que el producto de matrices no es conmutativo, al obtener la matriz equivalente, tenemos que tener en cuenta que el orden en el que se aplican las puertas:"
      ]
    },
    {
      "cell_type": "code",
      "execution_count": null,
      "id": "awful-profit",
      "metadata": {
        "id": "awful-profit"
      },
      "outputs": [],
      "source": [
        "# Circuito con dos puertas y obtenemos la matriz unitaria equivalente\n",
        "qc = QuantumCircuit(1)\n",
        "qc.z(0)\n",
        "qc.y(0)\n",
        "qc.draw('mpl', style=\"iqp\")"
      ]
    },
    {
      "cell_type": "code",
      "source": [
        "# Uso la función obten_unitaria definida antes\n",
        "obten_unitaria(qc, \"YZ = \")"
      ],
      "metadata": {
        "id": "WZEFwDoi_5Zn"
      },
      "id": "WZEFwDoi_5Zn",
      "execution_count": null,
      "outputs": []
    },
    {
      "cell_type": "markdown",
      "id": "upper-keeping",
      "metadata": {
        "id": "upper-keeping"
      },
      "source": [
        "### Puerta _phase shift_ <a id=\"phase\"></a>\n",
        "\n",
        "Puertas que cambian la fase relativa:\n",
        "\n",
        "$$\n",
        "R_\\theta  = \\begin{bmatrix}1 & 0 \\\\ 0 & e^{i\\theta} \\end{bmatrix}\n",
        "$$\n",
        "\n",
        "La inversa de $R_\\theta$ es su conjugada traspuesta:\n",
        "$$\n",
        "R_\\theta^\\dagger = \\begin{bmatrix}1 & 0 \\\\ 0 & e^{-i\\theta} \\end{bmatrix}\n",
        "$$\n",
        "\n",
        "\n",
        "\n",
        "---\n",
        "\n",
        "\n",
        "**Ejemplo:**\n",
        "\n",
        "$$\n",
        "R_\\theta|+\\rangle = \\tfrac{1}{\\sqrt{2}}\\begin{bmatrix}1 & 0 \\\\ 0 & e^{i\\theta} \\end{bmatrix}\\begin{bmatrix}1 \\\\ 1\\end{bmatrix} = \\tfrac{1}{\\sqrt{2}}\\begin{bmatrix}1 \\\\ e^{i\\theta}\\end{bmatrix} = \\tfrac{1}{\\sqrt{2}}(|0\\rangle + e^{i\\theta}|1\\rangle)\n",
        "$$\n",
        "\n",
        "\n",
        "\n",
        "---\n",
        "\n",
        "\n",
        "Casos particulares:\n",
        "\n",
        "$$\n",
        "Z = R_\\pi = \\begin{bmatrix}1 & 0 \\\\ 0 & e^{i\\pi} \\end{bmatrix} = \\begin{bmatrix}1 & 0 \\\\ 0 & -1 \\end{bmatrix}\n",
        "$$\n",
        "\n",
        "$$\n",
        "S = R_{\\pi/2} = \\begin{bmatrix}1 & 0 \\\\ 0 & e^{i\\pi/2} \\end{bmatrix} = \\begin{bmatrix}1 & 0 \\\\ 0 & i \\end{bmatrix} = \\sqrt{Z}\n",
        "$$\n",
        "\n",
        "$$\n",
        "T = R_{\\pi/4} = \\begin{bmatrix}1 & 0 \\\\ 0 & e^{i\\pi/4} \\end{bmatrix} = \\sqrt{S}\n",
        "$$\n"
      ]
    },
    {
      "cell_type": "code",
      "execution_count": null,
      "id": "98607e3e",
      "metadata": {
        "id": "98607e3e"
      },
      "outputs": [],
      "source": [
        "# Ejemplo, rotación 3𝜋/2\n",
        "import numpy as np\n",
        "qc = QuantumCircuit(1)\n",
        "theta = 3*np.pi/2\n",
        "qc.p(theta, 0)\n",
        "display(qc.draw('mpl', style=\"iqp\"))\n",
        "obten_unitaria(qc, \"R_{3\\pi/2} = \")"
      ]
    },
    {
      "cell_type": "markdown",
      "id": "subjective-gross",
      "metadata": {
        "id": "subjective-gross"
      },
      "source": [
        "### Puerta Hadamard <a id=\"hada\"></a>\n",
        "\n",
        "$$\n",
        "H = \\tfrac{1}{\\sqrt{2}}\\begin{bmatrix}1 & 1 \\\\ 1 & -1 \\end{bmatrix}\n",
        "$$\n",
        "\n",
        "Esta puerta permite transformar un estado simple ($|0\\rangle$ o $|1\\rangle$) en un estado en superposición.\n",
        "\n",
        "\n",
        "---\n",
        "\n",
        "\n",
        "**Ejemplos**\n",
        "\n",
        "$$\n",
        "H|0\\rangle = \\tfrac{1}{\\sqrt{2}}\\begin{bmatrix}1 & 1 \\\\ 1 & -1 \\end{bmatrix} \\begin{bmatrix}1 \\\\ 0 \\end{bmatrix} =  \\tfrac{1}{\\sqrt{2}}\\begin{bmatrix}1 \\\\ 1 \\end{bmatrix} = \\tfrac{1}{\\sqrt{2}}(|0\\rangle+|1\\rangle) =  |+\\rangle\n",
        "$$\n",
        "\n",
        "$$\n",
        "H|1\\rangle = \\tfrac{1}{\\sqrt{2}}\\begin{bmatrix}1 & 1 \\\\ 1 & -1 \\end{bmatrix} \\begin{bmatrix}0 \\\\ 1 \\end{bmatrix} =  \\tfrac{1}{\\sqrt{2}}\\begin{bmatrix}1 \\\\ -1 \\end{bmatrix} = \\tfrac{1}{\\sqrt{2}}(|0\\rangle-|1\\rangle) =  |-\\rangle\n",
        "$$\n",
        "\n",
        "\n",
        "---\n"
      ]
    },
    {
      "cell_type": "markdown",
      "id": "competitive-statement",
      "metadata": {
        "id": "competitive-statement"
      },
      "source": [
        "### Ejercicio: puerta H\n",
        "\n",
        "Crea un circuito de 1 cúbit en estado $|0\\rangle$ (por defecto), aplícale una puerta $H$ y obtén el vector de estado de salida."
      ]
    },
    {
      "cell_type": "code",
      "execution_count": null,
      "id": "political-dating",
      "metadata": {
        "id": "political-dating"
      },
      "outputs": [],
      "source": [
        "# Crea un circuito de 1 cúbit para obtener el estado |+>\n",
        "qc = ....\n",
        "\n",
        "# Aplicamos la puerta correspondiente al cúbit\n",
        "qc....\n",
        "\n",
        "display(qc.draw('mpl', style=\"iqp\"))\n",
        "\n",
        "obten_estado(qc, \"H|0\\\\rangle = \")"
      ]
    },
    {
      "cell_type": "markdown",
      "id": "smaller-accommodation",
      "metadata": {
        "id": "smaller-accommodation"
      },
      "source": [
        "<a name=\"bloch\"></a>\n",
        "## Puertas como rotaciones en la esfera de Bloch\n",
        "\n",
        "Las puertas pueden verse como una rotación del cúbit en la esfera de Bloch:\n",
        "\n",
        "- $X$, $Y$, $Z$: rota un ángulo $\\pi$ alrededor del eje x, y o z, respectivamente\n",
        "- $R_\\theta$ o $R_z(\\theta)$: rota un ángulo $\\theta$ alrededor del eje z\n",
        "- $S$: rota $\\tfrac{\\pi}{2}$ alrededor del eje z\n",
        "- $T$: rota $\\tfrac{\\pi}{4}$ alrededor del eje z\n",
        "- $H$:  combinación de dos rotaciones: primero $\\pi$ alrededor de z seguida de $\\pi/2$ alrededor de y\n",
        "\n",
        "En general, existen infinitas puertas. Las más usadas son rotaciones alrededor de z, simplemente por usar como base estándar $\\{|0\\rangle,|1\\rangle\\}$, pero también existen $R_x(\\phi)$ y $R_y(\\phi)$. Estas rotaciones se pueden expresar como exponenciales de las matrices de Pauli:\n",
        "\n",
        "$$\n",
        "R_x(\\theta) = e^{-i\\theta \\sigma_x/2} = \\cos\\frac{\\theta}{2}I-i\\sin\\frac{\\theta}{2}\\sigma_x =\n",
        "\\begin{bmatrix}\n",
        "\\cos\\frac{\\theta}{2}   & -i\\sin\\frac{\\theta}{2}\\\\\n",
        "-i\\sin\\frac{\\theta}{2} & \\cos\\frac{\\theta}{2}\n",
        "\\end{bmatrix}\n",
        "$$\n",
        "\n",
        "$$\n",
        "R_y(\\theta) = e^{-i\\theta \\sigma_y/2} = \\cos\\frac{\\theta}{2}I-i\\sin\\frac{\\theta}{2}\\sigma_y =\n",
        "\\begin{bmatrix}\n",
        "\\cos\\frac{\\theta}{2}   & -\\sin\\frac{\\theta}{2}\\\\\n",
        "\\sin\\frac{\\theta}{2} & \\cos\\frac{\\theta}{2}\n",
        "\\end{bmatrix}\n",
        "$$\n",
        "\n",
        "$$\n",
        "\\begin{aligned}\n",
        "R_z(\\theta) & = e^{-i\\theta \\sigma_z/2} = \\cos\\frac{\\theta}{2}I-i\\sin\\frac{\\theta}{2}\\sigma_z =\n",
        "\\begin{bmatrix}\n",
        "e^{-i\\frac{\\theta}{2}}   & 0\\\\\n",
        "0 & e^{i\\frac{\\theta}{2}}\n",
        "\\end{bmatrix} \\\\\n",
        "&=\n",
        "e^{-i\\frac{\\theta}{2}} \\begin{bmatrix}\n",
        "1   & 0\\\\\n",
        "0 & e^{i\\theta}\n",
        "\\end{bmatrix}= e^{-i\\frac{\\theta}{2}}R_\\theta\n",
        "\\end{aligned}\n",
        "$$\n",
        "\n",
        "Así, la puerta $H$ puede escribirse como:\n",
        "$$\n",
        "\\begin{aligned}\n",
        "H &= R_y(\\tfrac{\\pi}{2})R_z(\\pi) =\n",
        "\\begin{bmatrix}\n",
        "\\cos\\frac{\\pi}{4}   & -\\sin\\frac{\\pi}{4}\\\\\n",
        "\\sin\\frac{\\pi}{4} & \\cos\\frac{\\pi}{4}\n",
        "\\end{bmatrix}\n",
        "\\begin{bmatrix}\n",
        "1   & 0\\\\\n",
        "0 & e^{i\\pi}\n",
        "\\end{bmatrix} \\\\[10pt] &=\n",
        "\\frac{1}{\\sqrt{2}}\n",
        "\\begin{bmatrix}\n",
        "1   & -1\\\\\n",
        "1 & 1\n",
        "\\end{bmatrix}\n",
        "\\begin{bmatrix}\n",
        "1   & 0\\\\\n",
        "0 & -1\n",
        "\\end{bmatrix} =\n",
        "\\frac{1}{\\sqrt{2}}\n",
        "\\begin{bmatrix}\n",
        "1   & 1\\\\\n",
        "1 & -1\n",
        "\\end{bmatrix}\n",
        "\\end{aligned}\n",
        "$$\n"
      ]
    },
    {
      "cell_type": "markdown",
      "id": "defensive-airfare",
      "metadata": {
        "id": "defensive-airfare"
      },
      "source": [
        "### Ejercicio: Puerta $R_y(\\theta)$\n",
        "\n",
        "Aplica una puerta $R_y(\\theta)$ a 1 cúbit $|0\\rangle$ para obtener un estado con un 30% de probabilidad de medir 0 y un 70% de medir 1\n",
        "- Recuerda que podemos escribir el estado como $|\\psi\\rangle = \\cos{\\tfrac{\\theta}{2}}|0\\rangle + e^{i\\phi}\\sin{\\tfrac{\\theta}{2}}|1\\rangle$\n",
        "- Crea el circuito y simúlalo, comprobando que funciona"
      ]
    },
    {
      "cell_type": "code",
      "execution_count": null,
      "id": "conscious-jefferson",
      "metadata": {
        "id": "conscious-jefferson"
      },
      "outputs": [],
      "source": [
        "from math import sqrt,acos\n",
        "\n",
        "prob = [0.3, 0.7]\n",
        "\n",
        "qc = QuantumCircuit(1, 1)\n",
        "\n",
        "# Calcula el valor de 𝜃\n",
        "theta = ... # @param {type:\"raw\"}\n",
        "print(f\"𝜃 = {theta}\")\n",
        "\n",
        "qc.ry(theta, 0)\n",
        "qc.measure(0, 0)\n",
        "display(qc.draw('mpl', style=\"iqp\"))\n",
        "\n",
        "# Hacemos 1024 simulaciones (shots)\n",
        "job_sim = execute(transpile(qc, sim), sim, shots=10000)\n",
        "# Obtenemos los resultados\n",
        "result = job_sim.result()\n",
        "# Mostramos el histograma\n",
        "plot_histogram(result.get_counts())"
      ]
    },
    {
      "cell_type": "markdown",
      "id": "figured-pride",
      "metadata": {
        "id": "figured-pride"
      },
      "source": [
        "<a name=\"puertas1c\"></a>\n",
        "## Puertas de 1 cúbit en un sistema multicúbit\n",
        "\n",
        "Igual que en el caso de puertas clásicas, las puertas en paralelo (que actúan sobre dos cúbits diferentes) se combinan usando el producto tensor."
      ]
    },
    {
      "cell_type": "code",
      "execution_count": 29,
      "id": "multiple-portugal",
      "metadata": {
        "id": "multiple-portugal",
        "colab": {
          "base_uri": "https://localhost:8080/",
          "height": 286
        },
        "outputId": "679f00db-ccb4-4bc4-ea1d-9e073dab8d4b"
      },
      "outputs": [
        {
          "output_type": "display_data",
          "data": {
            "text/plain": [
              "<Figure size 203.683x200.667 with 1 Axes>"
            ],
            "image/png": "[encoded data removed]"
          },
          "metadata": {}
        },
        {
          "output_type": "display_data",
          "data": {
            "text/plain": [
              "<IPython.core.display.Latex object>"
            ],
            "text/latex": "$$\nX\\otimes H = \n\\begin{bmatrix}\n0 & 0 & \\frac{\\sqrt{2}}{2} & \\frac{\\sqrt{2}}{2}  \\\\\n 0 & 0 & \\frac{\\sqrt{2}}{2} & - \\frac{\\sqrt{2}}{2}  \\\\\n \\frac{\\sqrt{2}}{2} & \\frac{\\sqrt{2}}{2} & 0 & 0  \\\\\n \\frac{\\sqrt{2}}{2} & - \\frac{\\sqrt{2}}{2} & 0 & 0  \\\\\n \\end{bmatrix}\n$$"
          },
          "metadata": {}
        }
      ],
      "source": [
        "qc = QuantumCircuit(2)\n",
        "qc.h(0)\n",
        "qc.x(1)\n",
        "display(qc.draw('mpl', style=\"iqp\"))\n",
        "obten_unitaria(qc, \"X\\otimes H = \")"
      ]
    },
    {
      "cell_type": "markdown",
      "id": "likely-salvation",
      "metadata": {
        "id": "likely-salvation"
      },
      "source": [
        "El efecto conjunto de ambas puertas puede obtenerse mediante el producto tensor de sus matrices (en orden, del cúbit más al menos significativo):\n",
        "\n",
        "$$\n",
        "X|q_1\\rangle \\otimes H|q_0\\rangle = (X\\otimes H)|q_1 q_0\\rangle\n",
        "$$\n",
        "\n",
        "Ese producto tensor es:\n",
        "\n",
        "$$\n",
        "\\begin{aligned}\n",
        "X\\otimes H &= \\begin{bmatrix} 0 & 1 \\\\ 1 & 0 \\end{bmatrix} \\otimes \\tfrac{1}{\\sqrt{2}}\\begin{bmatrix} 1 & 1 \\\\ 1 & -1 \\end{bmatrix} = \\frac{1}{\\sqrt{2}}\n",
        "\\begin{bmatrix} 0 \\times \\begin{bmatrix} 1 & 1 \\\\ 1 & -1 \\end{bmatrix}\n",
        "              & 1 \\times \\begin{bmatrix} 1 & 1 \\\\ 1 & -1 \\end{bmatrix}\n",
        "                \\\\\n",
        "                1 \\times \\begin{bmatrix} 1 & 1 \\\\ 1 & -1 \\end{bmatrix}\n",
        "              & 0 \\times \\begin{bmatrix} 1 & 1 \\\\ 1 & -1 \\end{bmatrix}\n",
        "\\end{bmatrix} \\\\\n",
        "&= \\frac{1}{\\sqrt{2}}\n",
        "\\begin{bmatrix} 0 & 0 & 1 & 1 \\\\\n",
        "                0 & 0 & 1 & -1 \\\\\n",
        "                1 & 1 & 0 & 0 \\\\\n",
        "                1 & -1 & 0 & 0 \\\\\n",
        "\\end{bmatrix}\n",
        "\\end{aligned}\n",
        "$$\n",
        "\n",
        "que se multiplica por el vector de 4 filas $|q_1 q_0\\rangle$.\n",
        "\n",
        "La matriz anterior se puede escribir como:\n",
        "\n",
        "$$\n",
        "X\\otimes H =\n",
        "\\begin{bmatrix} 0 & H \\\\\n",
        "               H & 0\\\\\n",
        "\\end{bmatrix}\n",
        "$$\n"
      ]
    },
    {
      "cell_type": "markdown",
      "id": "jewish-tampa",
      "metadata": {
        "id": "jewish-tampa"
      },
      "source": [
        "Si solo tenemos una puerta actuando sobre un cúbit, se considera que sobre la otra actúa la puerta $I$"
      ]
    },
    {
      "cell_type": "code",
      "execution_count": null,
      "id": "thermal-memory",
      "metadata": {
        "id": "thermal-memory"
      },
      "outputs": [],
      "source": [
        "qc = QuantumCircuit(2)\n",
        "qc.x(1)\n",
        "display(qc.draw('mpl', style=\"iqp\"))\n",
        "obten_unitaria(qc,\"X\\otimes I = \")"
      ]
    },
    {
      "cell_type": "markdown",
      "id": "shared-carry",
      "metadata": {
        "id": "shared-carry"
      },
      "source": [
        "En este ejemplo, las puertas aplicadas son:\n",
        "$$\n",
        "X|q_1\\rangle \\otimes I|q_0\\rangle = (X\\otimes I)|q_1 q_0\\rangle\n",
        "$$"
      ]
    },
    {
      "cell_type": "markdown",
      "id": "flexible-windows",
      "metadata": {
        "id": "flexible-windows"
      },
      "source": [
        "Otro ejemplo más complejo:"
      ]
    },
    {
      "cell_type": "code",
      "execution_count": null,
      "id": "pretty-cleaner",
      "metadata": {
        "id": "pretty-cleaner"
      },
      "outputs": [],
      "source": [
        "# 2 cúbits y 3 puertas\n",
        "qc = QuantumCircuit(2)\n",
        "qc.h(0)\n",
        "qc.x(1)\n",
        "qc.h(1)\n",
        "display(qc.draw('mpl', style=\"iqp\"))\n",
        "obten_unitaria(qc, \"(H\\otimes I)\\cdot(X\\otimes H) = HX\\otimes IH = \")"
      ]
    },
    {
      "cell_type": "markdown",
      "id": "charming-elevation",
      "metadata": {
        "id": "charming-elevation"
      },
      "source": [
        "Si aplicamos esa matriz al estado $|00\\rangle$ tenemos:\n",
        "\n",
        "$$\n",
        "\\frac{1}{2}\\begin{bmatrix}1&1&1&1\\\\1&-1&1&-1\\\\-1&-1&1&1\\\\-1&1&1&-1\\end{bmatrix}\\begin{bmatrix}1\\\\0\\\\0\\\\0\\end{bmatrix} = \\frac{1}{2}\\begin{bmatrix}1\\\\1\\\\-1\\\\-1\\end{bmatrix}\n",
        "$$\n",
        "\n",
        "Este estado es el $|-+\\rangle = |-\\rangle \\otimes |+\\rangle$, ya que tenemos el producto:\n",
        "\n",
        "$$\n",
        "HX|0\\rangle \\otimes H|0\\rangle = H|1\\rangle \\otimes H|0\\rangle = |-\\rangle\\otimes|+\\rangle\n",
        "$$\n",
        "\n",
        "Podemos verificarlo así:\n",
        "$$\n",
        "|-+\\rangle = |-\\rangle\\otimes|+\\rangle = \\tfrac{1}{\\sqrt{2}}\\begin{bmatrix}1\\\\-1\\end{bmatrix}\\otimes\\tfrac{1}{\\sqrt{2}}\\begin{bmatrix}1\\\\1\\end{bmatrix} = \\frac{1}{2}\\begin{bmatrix}1\\\\1\\\\-1\\\\-1\\end{bmatrix}\\\\ = \\frac{1}{2}(|00\\rangle+|01\\rangle-|10\\rangle-|11\\rangle)\n",
        "$$"
      ]
    },
    {
      "cell_type": "markdown",
      "id": "historic-findings",
      "metadata": {
        "id": "historic-findings"
      },
      "source": [
        "\n",
        "\n",
        "---\n",
        "\n",
        "\n",
        "\n",
        "---\n",
        "\n",
        "\n",
        "\n",
        "---\n",
        "\n"
      ]
    },
    {
      "cell_type": "markdown",
      "id": "chicken-indicator",
      "metadata": {
        "id": "chicken-indicator"
      },
      "source": [
        " <a name=\"cnot\"></a>\n",
        "# Puertas controladas: CNOT\n",
        "\n",
        "Perta CNOT: Realiza un NOT (puerta X) en el cúbit objetivo (_target_) si el estado del cúbit de control es $|1\\rangle$. La puerta se representa en un circuito como la del siguiente ejemplo, con `q0` como control y `q1` como target:"
      ]
    },
    {
      "cell_type": "code",
      "execution_count": null,
      "id": "blessed-hepatitis",
      "metadata": {
        "id": "blessed-hepatitis"
      },
      "outputs": [],
      "source": [
        "qc = QuantumCircuit(2)\n",
        "# Aplica CNOT, primer parámetro control, segundo target\n",
        "qc.cx(0,1)\n",
        "display(qc.draw('mpl', style=\"iqp\"))\n",
        "\n",
        "obten_unitaria(qc, \"CNOT = \")"
      ]
    },
    {
      "cell_type": "markdown",
      "id": "southern-vanilla",
      "metadata": {
        "id": "southern-vanilla"
      },
      "source": [
        "Esta matriz intercambia las amplitudes de los estados $|01\\rangle$ and $|11\\rangle$ del vector de estado (aquellos en las que el cúbit `q0` es 1):\n",
        "\n",
        "$$\n",
        "|\\psi\\rangle = \\begin{bmatrix} a_{0} \\\\ a_{1} \\\\ a_{2} \\\\ a_{3} \\end{bmatrix}, \\quad \\text{CNOT}|\\psi\\rangle = \\begin{bmatrix} a_{0} \\\\ a_{3} \\\\ a_{2} \\\\ a_{1} \\end{bmatrix} \\begin{matrix} \\\\ \\leftarrow \\\\ \\\\ \\leftarrow \\end{matrix}\n",
        "$$"
      ]
    },
    {
      "cell_type": "markdown",
      "id": "surface-belfast",
      "metadata": {
        "id": "surface-belfast"
      },
      "source": [
        "<a name=\"bell\"></a>\n",
        "## Creación de estados entrelazados\n",
        "\n",
        "Supongamos una CNOT que usa control un cúbit en estado $|+\\rangle = \\tfrac{1}{\\sqrt{2}}(|0\\rangle + |1\\rangle)$ y como target un cúbit en estado $|0\\rangle$:"
      ]
    },
    {
      "cell_type": "code",
      "execution_count": null,
      "id": "distributed-cruise",
      "metadata": {
        "id": "distributed-cruise"
      },
      "outputs": [],
      "source": [
        "qc = QuantumCircuit(2)\n",
        "qc.h(0)\n",
        "\n",
        "# CNOT: primer parámetro: control, segundo: target\n",
        "qc.cx(0,1)\n",
        "\n",
        "display(qc.draw('mpl', style=\"iqp\"))\n",
        "obten_estado(qc, \"\\\\text{CNOT}|0+\\\\rangle = \")"
      ]
    },
    {
      "cell_type": "markdown",
      "id": "dedicated-emerald",
      "metadata": {
        "id": "dedicated-emerald"
      },
      "source": [
        "El estado obtenido es:\n",
        "$$\n",
        "\\text{CNOT}|0{+}\\rangle = \\tfrac{1}{\\sqrt{2}}\\text{CNOT}(|00\\rangle + |01\\rangle)= \\tfrac{1}{\\sqrt{2}}(\\text{CNOT}|00\\rangle + \\text{CNOT}|01\\rangle) = \\tfrac{1}{\\sqrt{2}}(|00\\rangle + |11\\rangle)\n",
        "$$\n",
        "\n",
        "que es un ejemplo de estado entrelazado, en concreto el **estado 0 de Bell**."
      ]
    },
    {
      "cell_type": "markdown",
      "id": "indie-bangladesh",
      "metadata": {
        "id": "indie-bangladesh"
      },
      "source": [
        "### Estados de Bell\n",
        "\n",
        "Son los siguientes estados entrelazados:\n",
        "\n",
        "$$\n",
        "|\\beta_{00}\\rangle = \\frac{|00\\rangle + |11\\rangle}{\\sqrt{2}}\n",
        "$$\n",
        "$$\n",
        "|\\beta_{01}\\rangle = \\frac{|01\\rangle + |10\\rangle}{\\sqrt{2}}\n",
        "$$\n",
        "$$\n",
        "|\\beta_{10}\\rangle = \\frac{|00\\rangle - |11\\rangle}{\\sqrt{2}}\n",
        "$$\n",
        "$$\n",
        "|\\beta_{11}\\rangle = \\frac{|01\\rangle - |10\\rangle}{\\sqrt{2}}\n",
        "$$\n",
        "\n",
        "Esos estados forman una base del espacio de Hilbert de 2 cúbits.\n",
        "\n",
        "El estado $|\\beta_{00}\\rangle$ se obtiene con el circuito anterior.\n",
        "\n",
        "Para conseguir los estados restantes, se puede utilizar la siguiente expresión general:\n",
        "\n",
        "$$\n",
        "|\\beta_{ij}\\rangle = (I\\otimes X^jZ^i)|\\beta_{00}\\rangle\n",
        "$$"
      ]
    },
    {
      "cell_type": "markdown",
      "id": "confused-south",
      "metadata": {
        "id": "confused-south"
      },
      "source": [
        "### Ejercicio: creación de estados de Bell\n",
        "\n",
        "Obtén circuitos para los tres estados de Bell restantes."
      ]
    },
    {
      "cell_type": "markdown",
      "id": "grateful-stations",
      "metadata": {
        "id": "grateful-stations"
      },
      "source": [
        "**Estado 1 de Bell**"
      ]
    },
    {
      "cell_type": "code",
      "execution_count": null,
      "id": "joint-showcase",
      "metadata": {
        "id": "joint-showcase"
      },
      "outputs": [],
      "source": [
        "# |𝛽_01⟩=(𝐼⊗𝑋¹𝑍⁰)|𝛽_00⟩ = (𝐼⊗𝑋)|𝛽_00⟩\n",
        "qc = QuantumCircuit(2)\n",
        "\n",
        "# Aplica las puertas para obtener |𝛽_00⟩\n",
        "qc....\n",
        "qc....\n",
        "\n",
        "# Aplica la puerta X al cúbit que corrresponda\n",
        "qc.x()\n",
        "\n",
        "display(qc.draw('mpl', style=\"iqp\"))\n",
        "\n",
        "obten_estado(qc, \"|\\\\beta_{01}\\\\rangle = \")"
      ]
    },
    {
      "cell_type": "markdown",
      "id": "tamil-stack",
      "metadata": {
        "id": "tamil-stack"
      },
      "source": [
        "**Estado 2 de Bell**"
      ]
    },
    {
      "cell_type": "code",
      "execution_count": null,
      "id": "recent-aberdeen",
      "metadata": {
        "id": "recent-aberdeen"
      },
      "outputs": [],
      "source": [
        "# |𝛽_01⟩=(𝐼⊗𝑋⁰𝑍¹)|𝛽_00⟩ = (𝐼⊗𝑍)|𝛽_00⟩\n",
        "qc = QuantumCircuit(2)\n",
        "\n",
        "# Aplica las puertas para obtener |𝛽_00⟩\n",
        "qc...\n",
        "qc...\n",
        "\n",
        "# Aplica la otra puerta\n",
        "qc....\n",
        "\n",
        "display(qc.draw('mpl', style=\"iqp\"))\n",
        "\n",
        "obten_estado(qc, \"|\\\\beta_{10}\\\\rangle = \")"
      ]
    },
    {
      "cell_type": "markdown",
      "id": "respective-address",
      "metadata": {
        "id": "respective-address"
      },
      "source": [
        "**Estado 3 de Bell**"
      ]
    },
    {
      "cell_type": "code",
      "execution_count": null,
      "id": "under-south",
      "metadata": {
        "id": "under-south"
      },
      "outputs": [],
      "source": [
        "# |𝛽_01⟩=(𝐼⊗𝑋¹𝑍¹)|𝛽_00⟩ = (𝐼⊗𝑋𝑍)|𝛽_00⟩\n",
        "qc = QuantumCircuit(2)\n",
        "\n",
        "\n",
        "# Aplica las puertas para obtener |𝛽_00⟩\n",
        "qc...\n",
        "qc...\n",
        "\n",
        "# Aplica las otras puertas\n",
        "qc....\n",
        "qc....\n",
        "\n",
        "display(qc.draw('mpl', style=\"iqp\"))\n",
        "\n",
        "obten_estado(qc, \"|\\\\beta_{10}\\\\rangle = \")"
      ]
    },
    {
      "cell_type": "markdown",
      "id": "monetary-newcastle",
      "metadata": {
        "id": "monetary-newcastle"
      },
      "source": [
        "### Estados entrelazados de más cúbits\n",
        "\n",
        "Los estados entrelazados de más de 2 cúbits se denominan [estados _GHZ_](https://en.wikipedia.org/wiki/Greenberger%E2%80%93Horne%E2%80%93Zeilinger_state)\n",
        "\n",
        "Uno de estos estados para 3 cúbits es:\n",
        "\n",
        "$$\n",
        "|GHZ\\rangle = \\frac{|000\\rangle+|111\\rangle}{\\sqrt{2}}\n",
        "$$\n",
        "\n",
        "y se puede obtener con el siguiente circuito:"
      ]
    },
    {
      "cell_type": "code",
      "execution_count": null,
      "id": "technological-boating",
      "metadata": {
        "id": "technological-boating"
      },
      "outputs": [],
      "source": [
        "qc = QuantumCircuit(3)\n",
        "qc.h(0)\n",
        "qc.cx(0,1)\n",
        "qc.cx(1,2)\n",
        "display(qc.draw('mpl', style=\"iqp\"))\n",
        "\n",
        "obten_estado(qc, \"|GHZ\\\\rangle = \")"
      ]
    },
    {
      "cell_type": "markdown",
      "id": "cordless-explorer",
      "metadata": {
        "id": "cordless-explorer"
      },
      "source": [
        "## Otras puertas controladas <a id=\"otrasp\"></a>\n",
        "\n",
        "La puerta CNOT se llama también controlled-X. Esa misma idea se puede aplicar a cualquier otra puerta $U$. La matrix de una operación controlled-U es, suponiendo $q_0$ el cúbit más significativo:\n",
        "\n",
        "$$\n",
        "\\begin{aligned}\n",
        "\\text{U} & =\n",
        "\\begin{bmatrix}\n",
        "u_{00} & u_{01} \\\\\n",
        "u_{10} & u_{11}\\\\\n",
        "\\end{bmatrix} \\\\\n",
        "\\quad & \\\\\n",
        "\\text{Controlled-U} & =\n",
        "\\begin{bmatrix}\n",
        "I & 0 \\\\\n",
        "0 & U\\\\\n",
        "\\end{bmatrix}\n",
        " =\n",
        "\\begin{bmatrix}\n",
        "1 & 0 & 0 & 0 \\\\\n",
        "0 & 1 & 0 & 0 \\\\\n",
        "0 & 0 & u_{00} & u_{01} \\\\\n",
        "0 & 0 & u_{10} & u_{11}\\\\\n",
        "\\end{bmatrix}\n",
        "\\end{aligned}\n",
        "$$\n",
        "\n",
        "O suponiendo $q_0$ el cúbit menos significativo (orden usado en Qiskit)\n",
        "\n",
        "$$\n",
        "\\text{Controlled-U} =  \n",
        "\\begin{bmatrix}\n",
        "1 & 0 & 0 & 0 \\\\\n",
        "0 & u_{00} & 0 & u_{01} \\\\\n",
        "0 & 0 & 1 & 0 \\\\\n",
        "0 & u_{10} & 0 & u_{11}\\\\\n",
        "\\end{bmatrix}\n",
        "$$"
      ]
    },
    {
      "cell_type": "markdown",
      "id": "tracked-terror",
      "metadata": {
        "id": "tracked-terror"
      },
      "source": [
        "**Ejemplo**: Puerta Y controlada"
      ]
    },
    {
      "cell_type": "code",
      "execution_count": null,
      "id": "heavy-stanford",
      "metadata": {
        "id": "heavy-stanford"
      },
      "outputs": [],
      "source": [
        "c = 0\n",
        "t = 1\n",
        "qc = QuantumCircuit(2)\n",
        "qc.cy(c, t)\n",
        "display(qc.draw('mpl', style=\"iqp\"))\n",
        "\n",
        "\n",
        "obten_unitaria(qc, \"\\\\text{Controlled-Y} = \\n\")"
      ]
    },
    {
      "cell_type": "markdown",
      "id": "subtle-newfoundland",
      "metadata": {
        "id": "subtle-newfoundland"
      },
      "source": [
        "**Ejemplo**: Puerta H controlada"
      ]
    },
    {
      "cell_type": "code",
      "execution_count": null,
      "id": "flexible-magnet",
      "metadata": {
        "id": "flexible-magnet"
      },
      "outputs": [],
      "source": [
        "qc = QuantumCircuit(2)\n",
        "qc.ch(c, t)\n",
        "display(qc.draw('mpl', style=\"iqp\"))\n",
        "\n",
        "obten_unitaria(qc, \"\\\\text{Controlled-H} = \\n\")"
      ]
    },
    {
      "cell_type": "markdown",
      "source": [
        "<a name=\"kick\"></a>\n",
        "## Phase-kickback\n",
        "\n",
        "Un efecto interesante se ve cuando se usan rotaciones controladas.\n",
        "\n",
        "Por ejemplo, si aplicamos una puerta $Z$ a un cúbit en estado simple ($|0\\rangle> o $|1\\rangle$, no produce ningún efecto:\n",
        "\n",
        "$$\n",
        "Z|0\\rangle =\n",
        "\\begin{bmatrix}1 & 0 \\\\ 0 & -1 \\end{bmatrix}\n",
        "\\begin{bmatrix}1 \\\\ 0\\end{bmatrix} =\n",
        "\\begin{bmatrix}1 \\\\ 0\\end{bmatrix}\n",
        "= |0\\rangle\n",
        "$$\n",
        "\n",
        "$$\n",
        "Z|1\\rangle =\n",
        "\\begin{bmatrix}1 & 0 \\\\ 0 & -1 \\end{bmatrix}\n",
        "\\begin{bmatrix}0 \\\\ 1\\end{bmatrix} =\n",
        "\\begin{bmatrix}0 \\\\ -1\\end{bmatrix}\n",
        "= -|1\\rangle = |1\\rangle\n",
        "$$\n",
        "\n",
        "En el segundo caso, el $-$ es una _fase global_, que no es observable.\n",
        "\n",
        "Pero si aplicamos una $Z$ controlada por un cúbit en estado $|{+}\\rangle$ teniendo como target un cúbit en estado $|1\\rangle$ se produce un cambio de _fase relativa_ en el cúbit de control.\n",
        "\n",
        "Así, si $q_0=|+\\rangle$ y $q_1=|1\\rangle$,  y aplicamos una `C-Z` al estado $|1{+}\\rangle$ tenemos:\n",
        "\n",
        "$$\n",
        "\\begin{aligned}\n",
        "|1{+}\\rangle & = |1\\rangle \\otimes \\tfrac{1}{\\sqrt{2}}(|0\\rangle + |1\\rangle) \\\\\n",
        "& = \\tfrac{1}{\\sqrt{2}}(|10\\rangle + |11\\rangle) \\\\\n",
        "& \\\\\n",
        "\\text{C-Z}|1{+}\\rangle & = \\tfrac{1}{\\sqrt{2}}(\\text{C-Z}|10\\rangle + \\text{C-Z}|11\\rangle) \\\\\n",
        "& = \\tfrac{1}{\\sqrt{2}}(|10\\rangle + Z|1\\rangle\\otimes |1\\rangle) \\\\\n",
        "& = \\tfrac{1}{\\sqrt{2}}(|10\\rangle - |11\\rangle) \\\\\n",
        "& = |1\\rangle \\otimes \\tfrac{1}{\\sqrt{2}}(|0\\rangle - |1\\rangle) = |1{-}\\rangle\n",
        "\\end{aligned}\n",
        "$$\n",
        "\n",
        "Es decir, el cúbit $q_1$ se queda como está mientras que el $q_0$ rota $\\pi$ en torno al eje z.  Este efecto se conoce como _phase-quickback_"
      ],
      "metadata": {
        "id": "YDTPtG39Dqbw"
      },
      "id": "YDTPtG39Dqbw"
    },
    {
      "cell_type": "code",
      "source": [
        "# Cúbit de control\n",
        "c = 0\n",
        "# Cúbit target\n",
        "t = 1\n",
        "qc=QuantumCircuit(2)\n",
        "qc.h(c)\n",
        "qc.x(t)\n",
        "qc.cz(c,t)\n",
        "display(qc.draw('mpl', style=\"iqp\"))\n",
        "\n",
        "obten_estado(qc, \"(X\\otimes H)|00\\\\rangle = \")"
      ],
      "metadata": {
        "id": "t1LEMkdwFLif"
      },
      "id": "t1LEMkdwFLif",
      "execution_count": null,
      "outputs": []
    },
    {
      "cell_type": "markdown",
      "id": "appropriate-phoenix",
      "metadata": {
        "id": "appropriate-phoenix"
      },
      "source": [
        "El efecto es idéntico si se intercambian los bits de control y target"
      ]
    },
    {
      "cell_type": "code",
      "execution_count": null,
      "id": "subsequent-cyprus",
      "metadata": {
        "id": "subsequent-cyprus"
      },
      "outputs": [],
      "source": [
        "qc=QuantumCircuit(2)\n",
        "qc.h(c)\n",
        "qc.x(t)\n",
        "\n",
        "# Intercambio el papel de control y target\n",
        "qc.cz(t,c)\n",
        "display(qc.draw('mpl', style=\"iqp\"))\n",
        "\n",
        "obten_estado(qc, \"(X\\otimes H)|00\\\\rangle = \")"
      ]
    },
    {
      "cell_type": "markdown",
      "id": "005ef991",
      "metadata": {
        "id": "005ef991"
      },
      "source": [
        "### Ejercicio: Controlled-Z\n",
        "\n",
        "Crea un circuito que obtenga el siguiente estado:\n",
        "\n",
        "$$\n",
        "|\\psi\\rangle = \\frac{1}{2}(|00\\rangle+|01\\rangle-|10\\rangle+|11\\rangle)\n",
        "$$"
      ]
    },
    {
      "cell_type": "code",
      "execution_count": null,
      "id": "f85b2874",
      "metadata": {
        "id": "f85b2874"
      },
      "outputs": [],
      "source": [
        "n = 2\n",
        "qc = QuantumCircuit(n)\n",
        "\n",
        "# Pon los cúbits en superposición\n",
        "# para obtener el estado |𝜓⟩=1/2(|00⟩+|01⟩+|10⟩+|11⟩)\n",
        "qc....\n",
        "\n",
        "# La puerta C-Z cambia el signo del estado |11>\n",
        "# Aplicamos la puerta C-Z para obtener\n",
        "# el estado |𝜓⟩=1/2(|00⟩+|01⟩+|10⟩-|11⟩)\n",
        "qc....\n",
        "\n",
        "# Aplicamos una puerta a q0 y para obtener\n",
        "# |𝜓⟩=1/2(|01⟩+|00⟩+|11⟩-|10⟩)\n",
        "qc....\n",
        "\n",
        "display(qc.draw('mpl', style=\"iqp\"))\n",
        "\n",
        "obten_estado(qc, \"|\\psi\\\\rangle = \")"
      ]
    },
    {
      "cell_type": "markdown",
      "id": "willing-major",
      "metadata": {
        "id": "willing-major"
      },
      "source": [
        "\n",
        "\n",
        "---\n",
        "\n",
        "\n",
        "\n",
        "---\n",
        "\n",
        "\n",
        "\n",
        "---\n",
        "\n"
      ]
    },
    {
      "cell_type": "markdown",
      "id": "portuguese-boost",
      "metadata": {
        "id": "portuguese-boost"
      },
      "source": [
        "<a name=\"otras\"></a>\n",
        "# Otras puertas"
      ]
    },
    {
      "cell_type": "markdown",
      "id": "fifth-china",
      "metadata": {
        "id": "fifth-china"
      },
      "source": [
        "<a name=\"swap\"></a>\n",
        "## Puerta swap\n",
        "\n",
        "Intercambia dos cúbits"
      ]
    },
    {
      "cell_type": "code",
      "execution_count": null,
      "id": "infectious-royal",
      "metadata": {
        "id": "infectious-royal"
      },
      "outputs": [],
      "source": [
        "qc = QuantumCircuit(2)\n",
        "qc.x(1)\n",
        "qc.swap(0,1)\n",
        "display(qc.draw('mpl', style=\"iqp\"))\n",
        "\n",
        "obten_estado(qc, \"\\\\text{SWAP}|10\\\\rangle = \\n\")"
      ]
    },
    {
      "cell_type": "markdown",
      "source": [
        "<a name=\"multiples\"></a>\n",
        "## Puertas para múltiples cúbits\n",
        "\n",
        "El vector de estado de un sistema de n cúbits puede escribirse como:\n",
        "\n",
        "$$\n",
        "|\\psi\\rangle = \\sum_{i=0}^{2^n-1} a_i|i\\rangle\n",
        "$$\n",
        "donde $a_i \\in \\mathbb{C}$ y $\\sum_{i=0}^{2^n-1}|a_i|^2 = 1$.bold text"
      ],
      "metadata": {
        "id": "4EvKQ6LzMn6N"
      },
      "id": "4EvKQ6LzMn6N"
    },
    {
      "cell_type": "markdown",
      "id": "talented-upgrade",
      "metadata": {
        "id": "talented-upgrade"
      },
      "source": [
        "### Puerta _Walsh-Hadamard_<a id=\"wh\"></a>\n",
        "\n",
        "El uso de puertas `H` permite poner los n-cúbits en superposición.\n",
        "\n",
        "Ejemplo para 3 cúbits:\n",
        "\n",
        "$$\n",
        "H^{\\otimes 3}|010\\rangle = H|0\\rangle\\otimes H|1\\rangle\\otimes H|0\\rangle = \\\\\n",
        "\\frac{\\sqrt{2}}{4}\\left[(|0\\rangle + |1\\rangle)\\otimes (|0\\rangle - |1\\rangle) \\otimes (|0\\rangle + |1\\rangle) \\right] = \\\\\n",
        "\\frac{\\sqrt{2}}{4}\\left[|000\\rangle+|001\\rangle-|010\\rangle-|011\\rangle+|100\\rangle+|101\\rangle-|110\\rangle-|111\\rangle\\right] = \\\\\n",
        "\\frac{\\sqrt{2}}{4}\\left(|0\\rangle + |1\\rangle - |2\\rangle - |3\\rangle + |4\\rangle + |5\\rangle - |6\\rangle - |7\\rangle \\right)\n",
        "$$\n",
        "\n",
        "En general, para un estado $|x\\rangle$ de n-cúbits, se puede escribir:\n",
        "\n",
        "$$\n",
        "H^{\\otimes n}|x\\rangle = \\frac{1}{\\sqrt{2^n}} \\sum_{i=0}^{2^n-1} (-1)^{x\\cdot i}|i\\rangle\n",
        "$$\n",
        "\n",
        "siendo $x\\cdot i = x_0i_0\\oplus x_1i_1\\oplus \\ldots \\oplus x_{n-1}i_{n-1}$\n",
        "\n",
        "El estado de _superposición completa_ es:\n",
        "\n",
        "$$\n",
        "|+\\rangle^{\\otimes n} = H^{\\otimes n}|0\\rangle^{\\otimes n}\n",
        "$$\n",
        "\n",
        "$H^{\\otimes n}$ se conoce como puerta _Walsh-Hadamard_."
      ]
    },
    {
      "cell_type": "code",
      "execution_count": null,
      "id": "capital-recognition",
      "metadata": {
        "id": "capital-recognition"
      },
      "outputs": [],
      "source": [
        "n = 3\n",
        "qc=QuantumCircuit(n)\n",
        "qc.x(1)\n",
        "for i in range(n):\n",
        "    qc.h(i)\n",
        "\n",
        "display(qc.draw('mpl',style=\"iqp\"))\n",
        "\n",
        "obten_estado(qc, \"|\\psi\\\\rangle = \")"
      ]
    },
    {
      "cell_type": "markdown",
      "id": "rental-sacramento",
      "metadata": {
        "id": "rental-sacramento"
      },
      "source": [
        "### Puerta Toffoli (Controlled-Controlled-NOT o CCX)<a id=\"toffoli\"></a>\n",
        "\n",
        "La puerta Toffoli es una puerta de tres qubits con dos controles y un target. Realiza una X en el target sólo si ambos controles están en el estado $|1\\rangle$. Permite implementar un AND o NAND de los controles."
      ]
    },
    {
      "cell_type": "code",
      "execution_count": null,
      "id": "shared-solid",
      "metadata": {
        "id": "shared-solid"
      },
      "outputs": [],
      "source": [
        "qc = QuantumCircuit(3)\n",
        "a = 0\n",
        "b = 1\n",
        "t = 2\n",
        "# Toffoli con bits de control a y b y target t\n",
        "qc.ccx(a,b,t)\n",
        "qc.draw('mpl', style=\"iqp\")"
      ]
    },
    {
      "cell_type": "markdown",
      "id": "enclosed-roommate",
      "metadata": {
        "id": "enclosed-roommate"
      },
      "source": [
        "Si el estado inicial del target es |0⟩, su estado final será un AND de ambos controles. Si el estado inicial del target es |1⟩, su estado final será un NAND de ambos controles."
      ]
    },
    {
      "cell_type": "markdown",
      "id": "controlling-spectrum",
      "metadata": {
        "id": "controlling-spectrum"
      },
      "source": [
        "### Puertas controladas genéricas<a id=\"genericas\"></a>\n",
        "\n",
        "En general, se puede pensar en puertas $U$ que actúan sobre $k$ cúbits y que son controladas por $n$ cúbits:\n",
        "\n",
        "<center><img src=\"https://drive.google.com/uc?export=view&id=1N0OgtidrJdounWS0ybEkgWwHo_CVIw32\" alt=\"Puerta controlada genérica\" width=\"300\"  /></center>"
      ]
    },
    {
      "cell_type": "code",
      "source": [
        "# Ejemplo: puerta MCMT en Qiskit\n",
        "from qiskit.circuit.library import MCMT\n",
        "n = 5\n",
        "qc = QuantumCircuit(n)\n",
        "qc = qc.compose(MCMT('z',n-2,2))\n",
        "qc.draw('mpl', style=\"iqp\")"
      ],
      "metadata": {
        "id": "P2fZ6ey8eE7y"
      },
      "id": "P2fZ6ey8eE7y",
      "execution_count": null,
      "outputs": []
    }
  ],
  "metadata": {
    "kernelspec": {
      "display_name": "Python 3 (ipykernel)",
      "language": "python",
      "name": "python3"
    },
    "language_info": {
      "codemirror_mode": {
        "name": "ipython",
        "version": 3
      },
      "file_extension": ".py",
      "mimetype": "text/x-python",
      "name": "python",
      "nbconvert_exporter": "python",
      "pygments_lexer": "ipython3",
      "version": "3.10.10"
    },
    "colab": {
      "provenance": [],
      "toc_visible": true,
      "include_colab_link": true
    }
  },
  "nbformat": 4,
  "nbformat_minor": 5
}